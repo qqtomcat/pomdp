{
 "cells": [
  {
   "cell_type": "code",
   "execution_count": 1,
   "id": "5dbae42a",
   "metadata": {},
   "outputs": [],
   "source": [
    "import configparser\n"
   ]
  },
  {
   "cell_type": "code",
   "execution_count": 49,
   "id": "d577264d",
   "metadata": {},
   "outputs": [],
   "source": [
    "def read_ini(file_path):\n",
    "    config = configparser.ConfigParser()\n",
    "    config.read(file_path)\n",
    "    configuration={}\n",
    "    for section in config.sections():\n",
    "        for key in config[section]:\n",
    "            pair = {key : config[section][key]} \n",
    "            configuration.update(pair)\n",
    "                        \n",
    "    return configuration"
   ]
  }
 ],
 "metadata": {
  "kernelspec": {
   "display_name": "Python 3 (ipykernel)",
   "language": "python",
   "name": "python3"
  },
  "language_info": {
   "codemirror_mode": {
    "name": "ipython",
    "version": 3
   },
   "file_extension": ".py",
   "mimetype": "text/x-python",
   "name": "python",
   "nbconvert_exporter": "python",
   "pygments_lexer": "ipython3",
   "version": "3.9.13"
  }
 },
 "nbformat": 4,
 "nbformat_minor": 5
}
